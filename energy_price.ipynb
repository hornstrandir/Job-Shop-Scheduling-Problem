{
 "cells": [
  {
   "cell_type": "markdown",
   "metadata": {},
   "source": []
  },
  {
   "cell_type": "code",
   "execution_count": 40,
   "metadata": {},
   "outputs": [],
   "source": [
    "# data : https://www.smard.de/home/downloadcenter/download-marktdaten#!?downloadAttributes=%7B%22selectedCategory%22:3,%22selectedSubCategory%22:8,%22selectedRegion%22:%22DE%22,%22from%22:1658613600000,%22to%22:1659563999999,%22selectedFileType%22:%22CSV%22%7D"
   ]
  },
  {
   "cell_type": "code",
   "execution_count": 41,
   "metadata": {},
   "outputs": [],
   "source": [
    "import pandas as pd\n",
    "import pickle\n"
   ]
  },
  {
   "cell_type": "code",
   "execution_count": 42,
   "metadata": {},
   "outputs": [
    {
     "data": {
      "text/html": [
       "<div>\n",
       "<style scoped>\n",
       "    .dataframe tbody tr th:only-of-type {\n",
       "        vertical-align: middle;\n",
       "    }\n",
       "\n",
       "    .dataframe tbody tr th {\n",
       "        vertical-align: top;\n",
       "    }\n",
       "\n",
       "    .dataframe thead th {\n",
       "        text-align: right;\n",
       "    }\n",
       "</style>\n",
       "<table border=\"1\" class=\"dataframe\">\n",
       "  <thead>\n",
       "    <tr style=\"text-align: right;\">\n",
       "      <th></th>\n",
       "      <th>Datum_Uhrzeit</th>\n",
       "      <th>Deutschland/Luxemburg[€/MWh]</th>\n",
       "      <th>∅ Anrainer DE/LU[€/MWh]</th>\n",
       "      <th>Belgien[€/MWh]</th>\n",
       "      <th>Dänemark 1[€/MWh]</th>\n",
       "      <th>Dänemark 2[€/MWh]</th>\n",
       "      <th>Frankreich[€/MWh]</th>\n",
       "      <th>Niederlande[€/MWh]</th>\n",
       "      <th>Norwegen 2[€/MWh]</th>\n",
       "      <th>Österreich[€/MWh]</th>\n",
       "      <th>Polen[€/MWh]</th>\n",
       "      <th>Schweden 4[€/MWh]</th>\n",
       "      <th>Schweiz[€/MWh]</th>\n",
       "      <th>Tschechien[€/MWh]</th>\n",
       "      <th>DE/AT/LU[€/MWh]</th>\n",
       "      <th>Italien (Nord)[€/MWh]</th>\n",
       "      <th>Slowenien[€/MWh]</th>\n",
       "      <th>Ungarn[€/MWh]</th>\n",
       "    </tr>\n",
       "  </thead>\n",
       "  <tbody>\n",
       "    <tr>\n",
       "      <th>7291</th>\n",
       "      <td>2022-10-31 19:00:00</td>\n",
       "      <td>167.81</td>\n",
       "      <td>166,59</td>\n",
       "      <td>168.00</td>\n",
       "      <td>167.81</td>\n",
       "      <td>167.81</td>\n",
       "      <td>168,22</td>\n",
       "      <td>167.96</td>\n",
       "      <td>162.95</td>\n",
       "      <td>165.64</td>\n",
       "      <td>166.39</td>\n",
       "      <td>162.95</td>\n",
       "      <td>166,87</td>\n",
       "      <td>167.90</td>\n",
       "      <td>-</td>\n",
       "      <td>173,62</td>\n",
       "      <td>173.62</td>\n",
       "      <td>169,06</td>\n",
       "    </tr>\n",
       "    <tr>\n",
       "      <th>7292</th>\n",
       "      <td>2022-10-31 20:00:00</td>\n",
       "      <td>147.09</td>\n",
       "      <td>146,51</td>\n",
       "      <td>147.20</td>\n",
       "      <td>147.09</td>\n",
       "      <td>147.09</td>\n",
       "      <td>147,3</td>\n",
       "      <td>147.17</td>\n",
       "      <td>142.72</td>\n",
       "      <td>145.97</td>\n",
       "      <td>147.01</td>\n",
       "      <td>142.72</td>\n",
       "      <td>150,19</td>\n",
       "      <td>147.14</td>\n",
       "      <td>-</td>\n",
       "      <td>149,99</td>\n",
       "      <td>149.99</td>\n",
       "      <td>147,73</td>\n",
       "    </tr>\n",
       "    <tr>\n",
       "      <th>7293</th>\n",
       "      <td>2022-10-31 21:00:00</td>\n",
       "      <td>136.78</td>\n",
       "      <td>136,31</td>\n",
       "      <td>136.78</td>\n",
       "      <td>136.78</td>\n",
       "      <td>136.78</td>\n",
       "      <td>136,78</td>\n",
       "      <td>136.78</td>\n",
       "      <td>132.81</td>\n",
       "      <td>136.78</td>\n",
       "      <td>136.78</td>\n",
       "      <td>132.81</td>\n",
       "      <td>139,59</td>\n",
       "      <td>136.78</td>\n",
       "      <td>-</td>\n",
       "      <td>136,78</td>\n",
       "      <td>136.78</td>\n",
       "      <td>136,78</td>\n",
       "    </tr>\n",
       "    <tr>\n",
       "      <th>7294</th>\n",
       "      <td>2022-10-31 22:00:00</td>\n",
       "      <td>120.51</td>\n",
       "      <td>121,29</td>\n",
       "      <td>120.36</td>\n",
       "      <td>120.51</td>\n",
       "      <td>120.51</td>\n",
       "      <td>120,85</td>\n",
       "      <td>119.90</td>\n",
       "      <td>116.77</td>\n",
       "      <td>124.23</td>\n",
       "      <td>134.39</td>\n",
       "      <td>101.16</td>\n",
       "      <td>130,63</td>\n",
       "      <td>124.88</td>\n",
       "      <td>-</td>\n",
       "      <td>125,13</td>\n",
       "      <td>125.13</td>\n",
       "      <td>126,99</td>\n",
       "    </tr>\n",
       "    <tr>\n",
       "      <th>7295</th>\n",
       "      <td>2022-10-31 23:00:00</td>\n",
       "      <td>100.73</td>\n",
       "      <td>-</td>\n",
       "      <td>100.42</td>\n",
       "      <td>100.73</td>\n",
       "      <td>100.73</td>\n",
       "      <td>101,3</td>\n",
       "      <td>100.00</td>\n",
       "      <td>100.73</td>\n",
       "      <td>106.07</td>\n",
       "      <td>114.74</td>\n",
       "      <td>44.24</td>\n",
       "      <td>-</td>\n",
       "      <td>105.59</td>\n",
       "      <td>-</td>\n",
       "      <td>115,63</td>\n",
       "      <td>106.92</td>\n",
       "      <td>108,08</td>\n",
       "    </tr>\n",
       "  </tbody>\n",
       "</table>\n",
       "</div>"
      ],
      "text/plain": [
       "           Datum_Uhrzeit  Deutschland/Luxemburg[€/MWh]  \\\n",
       "7291 2022-10-31 19:00:00                        167.81   \n",
       "7292 2022-10-31 20:00:00                        147.09   \n",
       "7293 2022-10-31 21:00:00                        136.78   \n",
       "7294 2022-10-31 22:00:00                        120.51   \n",
       "7295 2022-10-31 23:00:00                        100.73   \n",
       "\n",
       "     ∅ Anrainer DE/LU[€/MWh]  Belgien[€/MWh]  Dänemark 1[€/MWh]  \\\n",
       "7291                  166,59          168.00             167.81   \n",
       "7292                  146,51          147.20             147.09   \n",
       "7293                  136,31          136.78             136.78   \n",
       "7294                  121,29          120.36             120.51   \n",
       "7295                       -          100.42             100.73   \n",
       "\n",
       "      Dänemark 2[€/MWh] Frankreich[€/MWh]  Niederlande[€/MWh]  \\\n",
       "7291             167.81            168,22              167.96   \n",
       "7292             147.09             147,3              147.17   \n",
       "7293             136.78            136,78              136.78   \n",
       "7294             120.51            120,85              119.90   \n",
       "7295             100.73             101,3              100.00   \n",
       "\n",
       "      Norwegen 2[€/MWh]  Österreich[€/MWh]  Polen[€/MWh]  Schweden 4[€/MWh]  \\\n",
       "7291             162.95             165.64        166.39             162.95   \n",
       "7292             142.72             145.97        147.01             142.72   \n",
       "7293             132.81             136.78        136.78             132.81   \n",
       "7294             116.77             124.23        134.39             101.16   \n",
       "7295             100.73             106.07        114.74              44.24   \n",
       "\n",
       "     Schweiz[€/MWh]  Tschechien[€/MWh] DE/AT/LU[€/MWh] Italien (Nord)[€/MWh]  \\\n",
       "7291         166,87             167.90               -                173,62   \n",
       "7292         150,19             147.14               -                149,99   \n",
       "7293         139,59             136.78               -                136,78   \n",
       "7294         130,63             124.88               -                125,13   \n",
       "7295              -             105.59               -                115,63   \n",
       "\n",
       "      Slowenien[€/MWh] Ungarn[€/MWh]  \n",
       "7291            173.62        169,06  \n",
       "7292            149.99        147,73  \n",
       "7293            136.78        136,78  \n",
       "7294            125.13        126,99  \n",
       "7295            106.92        108,08  "
      ]
     },
     "execution_count": 42,
     "metadata": {},
     "output_type": "execute_result"
    }
   ],
   "source": [
    "df_smard = pd.read_csv('data/elect_price_2022.csv', delimiter=';', decimal=',', parse_dates=[['Datum', 'Uhrzeit']])\n",
    "df_smard.tail()"
   ]
  },
  {
   "cell_type": "code",
   "execution_count": 43,
   "metadata": {},
   "outputs": [
    {
     "name": "stdout",
     "output_type": "stream",
     "text": [
      "Type: <class 'pandas.core.frame.DataFrame'>\n"
     ]
    },
    {
     "data": {
      "text/html": [
       "<div>\n",
       "<style scoped>\n",
       "    .dataframe tbody tr th:only-of-type {\n",
       "        vertical-align: middle;\n",
       "    }\n",
       "\n",
       "    .dataframe tbody tr th {\n",
       "        vertical-align: top;\n",
       "    }\n",
       "\n",
       "    .dataframe thead th {\n",
       "        text-align: right;\n",
       "    }\n",
       "</style>\n",
       "<table border=\"1\" class=\"dataframe\">\n",
       "  <thead>\n",
       "    <tr style=\"text-align: right;\">\n",
       "      <th></th>\n",
       "      <th>Datum_Uhrzeit</th>\n",
       "      <th>Deutschland/Luxemburg[€/MWh]</th>\n",
       "    </tr>\n",
       "  </thead>\n",
       "  <tbody>\n",
       "    <tr>\n",
       "      <th>0</th>\n",
       "      <td>2022-01-01 00:00:00</td>\n",
       "      <td>50.05</td>\n",
       "    </tr>\n",
       "    <tr>\n",
       "      <th>1</th>\n",
       "      <td>2022-01-01 01:00:00</td>\n",
       "      <td>41.33</td>\n",
       "    </tr>\n",
       "    <tr>\n",
       "      <th>2</th>\n",
       "      <td>2022-01-01 02:00:00</td>\n",
       "      <td>43.22</td>\n",
       "    </tr>\n",
       "    <tr>\n",
       "      <th>3</th>\n",
       "      <td>2022-01-01 03:00:00</td>\n",
       "      <td>45.46</td>\n",
       "    </tr>\n",
       "    <tr>\n",
       "      <th>4</th>\n",
       "      <td>2022-01-01 04:00:00</td>\n",
       "      <td>37.67</td>\n",
       "    </tr>\n",
       "  </tbody>\n",
       "</table>\n",
       "</div>"
      ],
      "text/plain": [
       "        Datum_Uhrzeit  Deutschland/Luxemburg[€/MWh]\n",
       "0 2022-01-01 00:00:00                         50.05\n",
       "1 2022-01-01 01:00:00                         41.33\n",
       "2 2022-01-01 02:00:00                         43.22\n",
       "3 2022-01-01 03:00:00                         45.46\n",
       "4 2022-01-01 04:00:00                         37.67"
      ]
     },
     "execution_count": 43,
     "metadata": {},
     "output_type": "execute_result"
    }
   ],
   "source": [
    "ser_energy_price_germany = df_smard[['Datum_Uhrzeit', 'Deutschland/Luxemburg[€/MWh]']]\n",
    "print(f\"Type: {type(ser_energy_price_germany)}\")\n",
    "ser_energy_price_germany.head()"
   ]
  },
  {
   "cell_type": "code",
   "execution_count": 44,
   "metadata": {},
   "outputs": [
    {
     "data": {
      "text/plain": [
       "pandas.core.series.Series"
      ]
     },
     "execution_count": 44,
     "metadata": {},
     "output_type": "execute_result"
    }
   ],
   "source": [
    "type(ser_energy_price_germany['Datum_Uhrzeit'])"
   ]
  },
  {
   "cell_type": "code",
   "execution_count": 45,
   "metadata": {},
   "outputs": [
    {
     "name": "stdout",
     "output_type": "stream",
     "text": [
      "           Datum_Uhrzeit  Deutschland/Luxemburg[€/MWh]\n",
      "7250 2022-10-30 02:00:00                         99.92\n"
     ]
    }
   ],
   "source": [
    "mask = ser_energy_price_germany['Datum_Uhrzeit'].duplicated()\n",
    "\n",
    "print(ser_energy_price_germany[mask])"
   ]
  },
  {
   "cell_type": "code",
   "execution_count": 46,
   "metadata": {},
   "outputs": [],
   "source": [
    "ser_energy_price_germany = ser_energy_price_germany.drop_duplicates(subset=['Datum_Uhrzeit'])"
   ]
  },
  {
   "cell_type": "code",
   "execution_count": 47,
   "metadata": {},
   "outputs": [],
   "source": [
    "idx = ser_energy_price_germany['Datum_Uhrzeit']\n",
    "val = ser_energy_price_germany['Deutschland/Luxemburg[€/MWh]']\n",
    "ser = val.set_axis(idx, axis=0)"
   ]
  },
  {
   "cell_type": "code",
   "execution_count": 48,
   "metadata": {},
   "outputs": [
    {
     "data": {
      "text/plain": [
       "Datum_Uhrzeit\n",
       "2022-01-01 00:00:00    50.05\n",
       "2022-01-01 01:00:00    41.33\n",
       "2022-01-01 02:00:00    43.22\n",
       "2022-01-01 03:00:00    45.46\n",
       "2022-01-01 04:00:00    37.67\n",
       "Name: Deutschland/Luxemburg[€/MWh], dtype: float64"
      ]
     },
     "execution_count": 48,
     "metadata": {},
     "output_type": "execute_result"
    }
   ],
   "source": [
    "ser.head()"
   ]
  },
  {
   "cell_type": "code",
   "execution_count": 49,
   "metadata": {},
   "outputs": [
    {
     "name": "stderr",
     "output_type": "stream",
     "text": [
      "/var/folders/2r/90tp356168b7h1_rljqp94f00000gn/T/ipykernel_11234/1912934808.py:1: FutureWarning: pad is deprecated and will be removed in a future version. Use ffill instead.\n",
      "  upsamled_ser = ser.resample('60s').pad()\n"
     ]
    }
   ],
   "source": [
    "upsamled_ser = ser.resample('60s').pad()\n",
    "#TODO: to datetime?? search for resample"
   ]
  },
  {
   "cell_type": "code",
   "execution_count": 50,
   "metadata": {},
   "outputs": [
    {
     "data": {
      "text/plain": [
       "Datum_Uhrzeit\n",
       "2022-12-10 22:56:00    243.55\n",
       "2022-12-10 22:57:00    243.55\n",
       "2022-12-10 22:58:00    243.55\n",
       "2022-12-10 22:59:00    243.55\n",
       "2022-12-10 23:00:00    228.57\n",
       "Freq: 60S, Name: Deutschland/Luxemburg[€/MWh], dtype: float64"
      ]
     },
     "execution_count": 50,
     "metadata": {},
     "output_type": "execute_result"
    }
   ],
   "source": [
    "upsamled_ser.tail()"
   ]
  },
  {
   "cell_type": "code",
   "execution_count": 51,
   "metadata": {},
   "outputs": [],
   "source": [
    "energy_price_lst = upsamled_ser.to_list()\n",
    "\n",
    "with open('data/elect_price_2022.pkl', 'wb') as outfile:\n",
    "    pickle.dump(energy_price_lst, outfile)"
   ]
  },
  {
   "cell_type": "code",
   "execution_count": 52,
   "metadata": {},
   "outputs": [
    {
     "name": "stdout",
     "output_type": "stream",
     "text": [
      "495301\n"
     ]
    }
   ],
   "source": [
    "print(len(energy_price_lst))\n",
    "\n"
   ]
  }
 ],
 "metadata": {
  "kernelspec": {
   "display_name": "Python 3.9.12 ('base')",
   "language": "python",
   "name": "python3"
  },
  "language_info": {
   "codemirror_mode": {
    "name": "ipython",
    "version": 3
   },
   "file_extension": ".py",
   "mimetype": "text/x-python",
   "name": "python",
   "nbconvert_exporter": "python",
   "pygments_lexer": "ipython3",
   "version": "3.9.12"
  },
  "orig_nbformat": 4,
  "vscode": {
   "interpreter": {
    "hash": "c1b322fa50c7a9677b93beca4fdf7097250185741468ebb13e08bbc5ad531ef7"
   }
  }
 },
 "nbformat": 4,
 "nbformat_minor": 2
}
