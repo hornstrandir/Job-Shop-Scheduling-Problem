{
 "cells": [
  {
   "cell_type": "code",
   "execution_count": null,
   "metadata": {},
   "outputs": [],
   "source": [
    "import numpy as np\n",
    "import pandas as pd\n",
    "import seaborn as sns\n",
    "import matplotlib.pyplot as plt\n",
    "import matplotlib as mpl\n",
    "from pathlib import Path"
   ]
  },
  {
   "cell_type": "code",
   "execution_count": null,
   "metadata": {},
   "outputs": [],
   "source": [
    "df_energy_consumption_alpha_1 = pd.read_csv(\"../data/auswertung/energy_consumption_alpha_1.csv\", delimiter=',')\n",
    "df_energy_consumption_alpha_1 = df_energy_consumption_alpha_1.drop(columns=[\n",
    "    \"fanciful-leaf-84penalty_weight1 - custom_metrics.total_energy_costs_mean__MIN\",\n",
    "    \"fanciful-leaf-84penalty_weight1 - custom_metrics.total_energy_costs_mean__MAX\",\n",
    "    \"spring-brook-83penalty_weight1 - custom_metrics.total_energy_costs_mean__MIN\",\n",
    "    \"spring-brook-83penalty_weight1 - custom_metrics.total_energy_costs_mean__MAX\",\n",
    "    \"exalted-resonance-82penalty_weight1 - custom_metrics.total_energy_costs_mean__MIN\",\n",
    "    \"exalted-resonance-82penalty_weight1 - custom_metrics.total_energy_costs_mean__MAX\"])"
   ]
  },
  {
   "cell_type": "code",
   "execution_count": null,
   "metadata": {},
   "outputs": [],
   "source": [
    "df_energy_consumption_alpha_1.columns = [\"Step\", \"A\", \"B\", \"C\"]\n",
    "df_energy_consumption_alpha_1.head()\n"
   ]
  },
  {
   "cell_type": "code",
   "execution_count": null,
   "metadata": {},
   "outputs": [],
   "source": [
    "df_energy_consumption_alpha_1 = pd.melt(df_energy_consumption_alpha_1, id_vars=['Step'], value_vars=[\"A\", \"B\", \"C\"], var_name='Run', value_name='Energycosts_1')\n",
    "df_energy_consumption_alpha_1.head()"
   ]
  },
  {
   "cell_type": "code",
   "execution_count": null,
   "metadata": {},
   "outputs": [],
   "source": [
    "#plt.figure(figsize=(16, 8), dpi=80)\n",
    "#sns.lineplot(data=df_energy_consumption_alpha_1, x=df_energy_consumption_alpha_1[\"Step\"], y=df_energy_consumption_alpha_1[\"Energycosts_1\"])"
   ]
  },
  {
   "cell_type": "code",
   "execution_count": null,
   "metadata": {},
   "outputs": [],
   "source": [
    "df_energy_consumption_alpha_75 = pd.read_csv(\"../data/auswertung/energy_consumption_alpha_075.csv\", delimiter=',')\n",
    "df_energy_consumption_alpha_75.head()"
   ]
  },
  {
   "cell_type": "code",
   "execution_count": null,
   "metadata": {},
   "outputs": [],
   "source": [
    "df_energy_consumption_alpha_75 = pd.read_csv(\"../data/auswertung/energy_consumption_alpha_075.csv\", delimiter=',')\n",
    "cols = df_energy_consumption_alpha_75.columns[[2,3,5,6,8,9]]\n",
    "df_energy_consumption_alpha_75 = df_energy_consumption_alpha_75.drop(cols, axis = 1)\n",
    "df_energy_consumption_alpha_75.head()"
   ]
  },
  {
   "cell_type": "code",
   "execution_count": null,
   "metadata": {},
   "outputs": [],
   "source": [
    "df_energy_consumption_alpha_75.columns = [\"Step\", \"A\", \"B\", \"C\"]\n",
    "df_energy_consumption_alpha_75.head()"
   ]
  },
  {
   "cell_type": "code",
   "execution_count": null,
   "metadata": {},
   "outputs": [],
   "source": [
    "df_energy_consumption_alpha_75 = pd.melt(df_energy_consumption_alpha_75, id_vars=['Step'], value_vars=[\"A\", \"B\", \"C\"], var_name='Run', value_name='Energycosts_75')\n",
    "df_energy_consumption_alpha_75.head()"
   ]
  },
  {
   "cell_type": "code",
   "execution_count": null,
   "metadata": {},
   "outputs": [],
   "source": [
    "df = df_energy_consumption_alpha_1.copy()\n",
    "df[\"Energycosts_75\"] = df_energy_consumption_alpha_75[\"Energycosts_75\"]"
   ]
  },
  {
   "cell_type": "markdown",
   "metadata": {},
   "source": [
    "# ALPHA 0.5"
   ]
  },
  {
   "cell_type": "code",
   "execution_count": null,
   "metadata": {},
   "outputs": [],
   "source": [
    "df_energy_consumption_alpha_5 = pd.read_csv(\"../data/auswertung/energy_consumption_alpha_05.csv\", delimiter=',')\n",
    "cols = df_energy_consumption_alpha_5.columns[[2,3,5,6,8,9]]\n",
    "df_energy_consumption_alpha_5 = df_energy_consumption_alpha_5.drop(cols, axis = 1)\n",
    "df_energy_consumption_alpha_5.head()"
   ]
  },
  {
   "cell_type": "code",
   "execution_count": null,
   "metadata": {},
   "outputs": [],
   "source": [
    "df_energy_consumption_alpha_5.columns = [\"Step\", \"A\", \"B\", \"C\"]\n",
    "df_energy_consumption_alpha_5.head()"
   ]
  },
  {
   "cell_type": "code",
   "execution_count": null,
   "metadata": {},
   "outputs": [],
   "source": [
    "df_energy_consumption_alpha_5 = pd.melt(df_energy_consumption_alpha_5, id_vars=['Step'], value_vars=[\"A\", \"B\", \"C\"], var_name='Run', value_name='Energycosts_5')\n",
    "df_energy_consumption_alpha_5.head()"
   ]
  },
  {
   "cell_type": "code",
   "execution_count": null,
   "metadata": {},
   "outputs": [],
   "source": [
    "df[\"Energycosts_5\"] = df_energy_consumption_alpha_5[\"Energycosts_5\"]"
   ]
  },
  {
   "cell_type": "markdown",
   "metadata": {},
   "source": [
    "# ALPHA 0.25"
   ]
  },
  {
   "cell_type": "code",
   "execution_count": null,
   "metadata": {},
   "outputs": [],
   "source": [
    "df_energy_consumption_alpha_25 = pd.read_csv(\"../data/auswertung/energy_consumption_alpha_025.csv\", delimiter=',')\n",
    "cols = df_energy_consumption_alpha_25.columns[[2,3,5,6,8,9]]\n",
    "df_energy_consumption_alpha_25 = df_energy_consumption_alpha_25.drop(cols, axis = 1)\n",
    "df_energy_consumption_alpha_25.head()"
   ]
  },
  {
   "cell_type": "code",
   "execution_count": null,
   "metadata": {},
   "outputs": [],
   "source": [
    "df_energy_consumption_alpha_25.columns = [\"Step\", \"A\", \"B\", \"C\"]\n",
    "df_energy_consumption_alpha_25.head()"
   ]
  },
  {
   "cell_type": "code",
   "execution_count": null,
   "metadata": {},
   "outputs": [],
   "source": [
    "df_energy_consumption_alpha_25 = pd.melt(df_energy_consumption_alpha_25, id_vars=['Step'], value_vars=[\"A\", \"B\", \"C\"], var_name='Run', value_name='Energycosts_25')\n",
    "df_energy_consumption_alpha_25.head()"
   ]
  },
  {
   "cell_type": "code",
   "execution_count": null,
   "metadata": {},
   "outputs": [],
   "source": [
    "df[\"Energycosts_25\"] = df_energy_consumption_alpha_25[\"Energycosts_25\"]"
   ]
  },
  {
   "cell_type": "markdown",
   "metadata": {},
   "source": [
    "# ALPHA 0"
   ]
  },
  {
   "cell_type": "code",
   "execution_count": null,
   "metadata": {},
   "outputs": [],
   "source": [
    "df_energy_consumption_alpha_0 = pd.read_csv(\"../data/auswertung/energy_consumption_alpha_0.csv\", delimiter=',')\n",
    "cols = df_energy_consumption_alpha_0.columns[[2,3,5,6,8,9]]\n",
    "df_energy_consumption_alpha_0 = df_energy_consumption_alpha_0.drop(cols, axis = 1)\n",
    "df_energy_consumption_alpha_0.head()"
   ]
  },
  {
   "cell_type": "code",
   "execution_count": null,
   "metadata": {},
   "outputs": [],
   "source": [
    "df_energy_consumption_alpha_0.columns = [\"Step\", \"A\", \"B\", \"C\"]\n",
    "df_energy_consumption_alpha_0.head()"
   ]
  },
  {
   "cell_type": "code",
   "execution_count": null,
   "metadata": {},
   "outputs": [],
   "source": [
    "df_energy_consumption_alpha_0 = pd.melt(df_energy_consumption_alpha_0, id_vars=['Step'], value_vars=[\"A\", \"B\", \"C\"], var_name='Run', value_name='Energycosts_0')\n",
    "df_energy_consumption_alpha_0.head()"
   ]
  },
  {
   "cell_type": "code",
   "execution_count": null,
   "metadata": {},
   "outputs": [],
   "source": [
    "df[\"Energycosts_0\"] = df_energy_consumption_alpha_0[\"Energycosts_0\"]"
   ]
  },
  {
   "cell_type": "markdown",
   "metadata": {},
   "source": [
    "# Meltdown"
   ]
  },
  {
   "cell_type": "code",
   "execution_count": null,
   "metadata": {},
   "outputs": [],
   "source": [
    "df_melted = pd.melt(df, id_vars=[\"Step\"], value_vars=[\"Energycosts_1\", \"Energycosts_5\", \"Energycosts_0\"], var_name='Run', value_name='Energycosts' )\n",
    "df_melted.head()"
   ]
  },
  {
   "cell_type": "code",
   "execution_count": null,
   "metadata": {},
   "outputs": [],
   "source": [
    "df_melted[\"Step\"] -= 1\n",
    "df_melted.head()"
   ]
  },
  {
   "cell_type": "code",
   "execution_count": null,
   "metadata": {},
   "outputs": [],
   "source": [
    "plt.figure(figsize=(20.5, 9.5), dpi=400)\n",
    "sns.lineplot(data=df, x=df_melted[\"Step\"], y=df_melted[\"Energycosts\"], hue=df_melted[\"Run\"])\n",
    "plt.legend(loc=\"upper center\",labels=[\"Mittelwert: alpha=1\",\"Spannweite alpha=1\", \"Mittelwert: alpha=0.5\",\"Spannweite alpha=0.5\",\"Mittelwert: alpha=0\",\"Spannweite alpha=0\",])\n",
    "plt.xlabel(\"Episoden\", labelpad=10, fontsize=14)\n",
    "plt.ylabel(\"Energiekosten [€]\", labelpad=10, fontsize=14)\n",
    "plt.rc('xtick', labelsize=14)    # fontsize of the tick labels\n",
    "plt.rc('ytick', labelsize=14)\n",
    "plt.xticks([0, 50, 100, 150, 200, 250])\n",
    "plt.margins(x=0)\n"
   ]
  },
  {
   "cell_type": "markdown",
   "metadata": {},
   "source": [
    "# MAKESPAN"
   ]
  },
  {
   "cell_type": "markdown",
   "metadata": {},
   "source": [
    "## ALPHA 1"
   ]
  },
  {
   "cell_type": "code",
   "execution_count": null,
   "metadata": {},
   "outputs": [],
   "source": [
    "# DF to merge all the data\n",
    "\n",
    "#df_makespan = pd.DataFrame({})"
   ]
  },
  {
   "cell_type": "code",
   "execution_count": null,
   "metadata": {},
   "outputs": [],
   "source": [
    "df_makespan_alpha_1 = pd.read_csv(\"../data/auswertung/makespan_alpha_1.csv\", delimiter=',')\n",
    "cols = df_makespan_alpha_1.columns[[2,3,5,6,8,9]]\n",
    "df_makespan_alpha_1 = df_makespan_alpha_1.drop(cols, axis = 1)\n",
    "df_makespan_alpha_1.head()"
   ]
  },
  {
   "cell_type": "code",
   "execution_count": null,
   "metadata": {},
   "outputs": [],
   "source": [
    "df_makespan_alpha_1.columns = [\"Step\", \"A\", \"B\", \"C\"]\n",
    "df_makespan_alpha_1.head()"
   ]
  },
  {
   "cell_type": "code",
   "execution_count": null,
   "metadata": {},
   "outputs": [],
   "source": [
    "df_makespan_alpha_1 = pd.melt(df_makespan_alpha_1, id_vars=['Step'], value_vars=[\"A\", \"B\", \"C\"], var_name='Run', value_name='makespan_alpha1')\n",
    "df_makespan_alpha_1.head()"
   ]
  },
  {
   "cell_type": "code",
   "execution_count": null,
   "metadata": {},
   "outputs": [],
   "source": [
    "\n",
    "df_makespan = df_makespan_alpha_1.copy()"
   ]
  },
  {
   "cell_type": "markdown",
   "metadata": {},
   "source": [
    "## ALPHA 0.5"
   ]
  },
  {
   "cell_type": "code",
   "execution_count": null,
   "metadata": {},
   "outputs": [],
   "source": [
    "df_makespan_alpha_05 = pd.read_csv(\"../data/auswertung/makespan_alpha_05.csv\", delimiter=',')\n",
    "cols = df_makespan_alpha_05.columns[[2,3,5,6,8,9]]\n",
    "df_makespan_alpha_05 = df_makespan_alpha_05.drop(cols, axis = 1)\n",
    "df_makespan_alpha_05.head()"
   ]
  },
  {
   "cell_type": "code",
   "execution_count": null,
   "metadata": {},
   "outputs": [],
   "source": [
    "df_makespan_alpha_05.columns = [\"Step\", \"A\", \"B\", \"C\"]\n",
    "df_makespan_alpha_05.head()"
   ]
  },
  {
   "cell_type": "code",
   "execution_count": null,
   "metadata": {},
   "outputs": [],
   "source": [
    "df_makespan_alpha_05 = pd.melt(df_makespan_alpha_05, id_vars=['Step'], value_vars=[\"A\", \"B\", \"C\"], var_name='Run', value_name='makespan_alpha05')\n",
    "df_makespan_alpha_05.head()"
   ]
  },
  {
   "cell_type": "code",
   "execution_count": null,
   "metadata": {},
   "outputs": [],
   "source": [
    "df_makespan[\"makespan_alpha05\"] = df_makespan_alpha_05[\"makespan_alpha05\"]"
   ]
  },
  {
   "cell_type": "markdown",
   "metadata": {},
   "source": [
    "## ALPHA 0"
   ]
  },
  {
   "cell_type": "code",
   "execution_count": null,
   "metadata": {},
   "outputs": [],
   "source": [
    "df_makespan_alpha_0 = pd.read_csv(\"../data/auswertung/makespan_alpha_0.csv\", delimiter=',')\n",
    "cols = df_makespan_alpha_0.columns[[2,3,5,6,8,9]]\n",
    "df_makespan_alpha_0 = df_makespan_alpha_0.drop(cols, axis = 1)\n",
    "df_makespan_alpha_0.head()\n",
    "df_makespan_alpha_0.columns = [\"Step\", \"A\", \"B\", \"C\"]\n",
    "df_makespan_alpha_0.head()\n",
    "df_makespan_alpha_0 = pd.melt(df_makespan_alpha_0, id_vars=['Step'], value_vars=[\"A\", \"B\", \"C\"], var_name='Run', value_name='makespan_alpha0')\n",
    "df_makespan_alpha_0.head()\n",
    "df_makespan[\"makespan_alpha0\"] = df_makespan_alpha_0[\"makespan_alpha0\"]"
   ]
  },
  {
   "cell_type": "markdown",
   "metadata": {},
   "source": [
    "# MELTDOWN MAKESPAN"
   ]
  },
  {
   "cell_type": "code",
   "execution_count": null,
   "metadata": {},
   "outputs": [],
   "source": [
    "df_makespan_melted = pd.melt(df_makespan, id_vars=[\"Step\"], value_vars=[\"makespan_alpha1\", \"makespan_alpha05\", \"makespan_alpha0\"], var_name='Run', value_name='Makespan' )\n",
    "df_makespan_melted.head()"
   ]
  },
  {
   "cell_type": "code",
   "execution_count": null,
   "metadata": {},
   "outputs": [],
   "source": [
    "plt.clf()\n",
    "plt.figure(figsize=(20.5, 9.5), dpi=400)\n",
    "sns.lineplot(data=df_makespan_melted, x=df_makespan_melted[\"Step\"], y=df_makespan_melted[\"Makespan\"], hue=df_makespan_melted[\"Run\"])\n",
    "plt.legend(loc=\"upper center\",labels=[\"Mittelwert: alpha=1\",\"Spannweite alpha=1\", \"Mittelwert: alpha=0.5\",\"Spannweite alpha=0.5\",\"Mittelwert: alpha=0\",\"Spannweite alpha=0\",])\n",
    "plt.xlabel(\"Episoden\", labelpad=10, fontsize=14)\n",
    "plt.ylabel(\"Makespan [min]\", labelpad=10, fontsize=14)\n",
    "#plt.locator_params(axis='y', nbins=6)\n",
    "plt.xticks([0, 50, 100, 150, 200, 250])\n",
    "plt.rc('xtick', labelsize=14)    # fontsize of the tick labels\n",
    "plt.rc('ytick', labelsize=14)\n",
    "plt.margins(x=0)\n",
    "plt.show()"
   ]
  },
  {
   "cell_type": "code",
   "execution_count": null,
   "metadata": {},
   "outputs": [],
   "source": []
  }
 ],
 "metadata": {
  "kernelspec": {
   "display_name": "Python 3.11.0 ('ipykernel_env')",
   "language": "python",
   "name": "python3"
  },
  "language_info": {
   "codemirror_mode": {
    "name": "ipython",
    "version": 3
   },
   "file_extension": ".py",
   "mimetype": "text/x-python",
   "name": "python",
   "nbconvert_exporter": "python",
   "pygments_lexer": "ipython3",
   "version": "3.11.0"
  },
  "orig_nbformat": 4,
  "vscode": {
   "interpreter": {
    "hash": "9f461b665dd78a0ad63959877b57c14aeb79c2781968bb93df8983cbfc0b14e0"
   }
  }
 },
 "nbformat": 4,
 "nbformat_minor": 2
}
