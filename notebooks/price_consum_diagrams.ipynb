{
 "cells": [
  {
   "cell_type": "code",
   "execution_count": null,
   "metadata": {},
   "outputs": [],
   "source": [
    "import numpy as np\n",
    "import pandas as pd\n",
    "import seaborn as sns\n",
    "import matplotlib.pyplot as plt\n",
    "import matplotlib as mpl\n",
    "from pathlib import Path"
   ]
  },
  {
   "cell_type": "code",
   "execution_count": null,
   "metadata": {},
   "outputs": [],
   "source": [
    "#df_hourly_2022 = pd.read_csv(\"../data/energy_data/Gro_handelspreise_202211280000_202211292359_Stunde.csv\", delimiter=';', decimal=',', parse_dates=[['Datum', 'Anfang']])\n",
    "df_hourly_2022 = pd.read_csv(\"../data/energy_data/Gro_handelspreise_202212050000_202212062359_Stunde.csv\", delimiter=';', decimal='.', parse_dates=['Datum'], dayfirst=True)\n",
    "df_hourly_2022.dropna()\n",
    "df_hourly_2022[\"Deutschland/Luxemburg [€/MWh] Originale Auflösungen\"] = df_hourly_2022[\"Deutschland/Luxemburg [€/MWh] Originale Auflösungen\"].str.replace(\n",
    "    \",\",\".\"\n",
    ")\n",
    "df_hourly_2022[\"Deutschland/Luxemburg [€/MWh] Originale Auflösungen\"] = pd.to_numeric(\n",
    "    df_hourly_2022[\"Deutschland/Luxemburg [€/MWh] Originale Auflösungen\"],\n",
    "    downcast='integer'\n",
    "    )\n",
    "df_hourly_2022.head()"
   ]
  },
  {
   "cell_type": "code",
   "execution_count": null,
   "metadata": {},
   "outputs": [],
   "source": [
    "series_hourly_2022 = df_hourly_2022.iloc[:, [1,3]]\n",
    "series_hourly_2022.columns = [\"Uhrzeit\", \"Großmarktpreis [€/MWh]\"]\n",
    "series_hourly_2022.head()"
   ]
  },
  {
   "cell_type": "code",
   "execution_count": null,
   "metadata": {},
   "outputs": [],
   "source": [
    "series_hourly_2022_day_one = series_hourly_2022.loc[0:23]\n",
    "series_hourly_2022_day_one.tail()"
   ]
  },
  {
   "cell_type": "code",
   "execution_count": null,
   "metadata": {},
   "outputs": [],
   "source": [
    "consumption = [\n",
    "    176,\n",
    "    176,\n",
    "    176,\n",
    "    176,\n",
    "    155,\n",
    "    155,\n",
    "    130,\n",
    "    100,\n",
    "    90,\n",
    "    80,\n",
    "    80,\n",
    "    80,\n",
    "    80,\n",
    "    80,\n",
    "    80,\n",
    "    80,\n",
    "    80,\n",
    "    100,\n",
    "    120,\n",
    "    120,\n",
    "    130,\n",
    "    140,\n",
    "    150,\n",
    "    150\n",
    "]\n",
    "\n",
    "df = pd.DataFrame({\"Time\": series_hourly_2022_day_one[\"Uhrzeit\"],\n",
    "                   \"Price\": series_hourly_2022_day_one[\"Großmarktpreis [€/MWh]\"], \n",
    "                   \"Consumption\": consumption})\n",
    "\n",
    "df[\"Price\"] = df[\"Price\"].div(1000)"
   ]
  },
  {
   "cell_type": "code",
   "execution_count": null,
   "metadata": {},
   "outputs": [],
   "source": [
    "fig, ax = plt.subplots()\n",
    "fig.set_size_inches(12.5, 6.5)\n",
    "\n",
    "fpath = Path(\"/Users/paul/Library/Fonts/Source_Sans_Pro/SourceSansPro-Regular.ttf\")\n",
    "#ax.set_title('Day-ahead Prices', font=fpath)\n",
    "ax.set_xlabel('Time', labelpad=10)\n",
    "ax.set_ylabel('Day-ahead Price [€/kWh]', labelpad=10)\n",
    "\n",
    "ax.plot(df[\"Time\"], df[\"Price\"], label=\"Strompreis [€/kWh]\", color='#007749')\n",
    "     \n",
    "#sns.set_style(\"darkgrid\")\n",
    "#plt.plot(series_hourly_day_one)\n",
    "plt.xticks(np.arange(0,25,3))\n",
    "plt.legend(loc='upper left', labels=['2022-12-05'])\n",
    "plt.show()"
   ]
  },
  {
   "cell_type": "code",
   "execution_count": null,
   "metadata": {},
   "outputs": [],
   "source": [
    "fig, ax1 = plt.subplots(figsize=(20.5, 9.5), dpi=600)\n",
    "\n",
    "p1 = ax1.plot(df[\"Time\"], df[\"Price\"], label=\"Strompreis [€/kWh]\", color='#007749')\n",
    "ax1.set_xlabel(\"Uhrzeit\", labelpad=10, fontsize=16)\n",
    "ax1.set_ylabel(\"Strompreis [€/kWh]\", labelpad=10, fontsize=16)\n",
    "#ax1.yaxis.get_label().set_color(ax1.get_color())\n",
    "\n",
    "#ax2 = ax1.twinx()\n",
    "#p2 = ax2.step(df[\"Time\"], df[\"Consumption\"], linestyle=\"dashed\",label=\"Energiebedarf [kW]\", color=\"#0E2356\",)\n",
    "#ax2.set_ylabel(\"Energiebedarf [kW]\", labelpad=10, fontsize=16)\n",
    "\n",
    "#ax2.yaxis.get_label().set_color(ax2.get_color())\n",
    "\n",
    "#ax1.legend(labelcolor=\"linecolor\", fontsize=16, handles=p1+p2)\n",
    "ax1.legend(labelcolor=\"linecolor\", fontsize=16, handles=p1)\n",
    "#ax2.legend(labelcolor=\"linecolor\", fontsize=16, loc=\"upper right\")\n",
    "\n",
    "SMALL_SIZE = 12\n",
    "MEDIUM_SIZE = 16\n",
    "\n",
    "plt.xticks(np.arange(0,25,3))\n",
    "plt.rc('xtick', labelsize=MEDIUM_SIZE)    # fontsize of the tick labels\n",
    "plt.rc('ytick', labelsize=MEDIUM_SIZE)    # fontsize of the tick labels\n",
    "#plt.margins(x=0)\n",
    "\n",
    "plt.show()\n"
   ]
  }
 ],
 "metadata": {
  "kernelspec": {
   "display_name": "Python 3.11.0 ('ipykernel_env')",
   "language": "python",
   "name": "python3"
  },
  "language_info": {
   "codemirror_mode": {
    "name": "ipython",
    "version": 3
   },
   "file_extension": ".py",
   "mimetype": "text/x-python",
   "name": "python",
   "nbconvert_exporter": "python",
   "pygments_lexer": "ipython3",
   "version": "3.11.0"
  },
  "orig_nbformat": 4,
  "vscode": {
   "interpreter": {
    "hash": "9f461b665dd78a0ad63959877b57c14aeb79c2781968bb93df8983cbfc0b14e0"
   }
  }
 },
 "nbformat": 4,
 "nbformat_minor": 2
}
