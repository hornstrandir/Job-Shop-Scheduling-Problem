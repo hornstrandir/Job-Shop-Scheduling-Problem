{
 "cells": [
  {
   "cell_type": "markdown",
   "metadata": {},
   "source": []
  },
  {
   "cell_type": "code",
   "execution_count": null,
   "metadata": {},
   "outputs": [],
   "source": [
    "# data : https://www.smard.de/home/downloadcenter/download-marktdaten#!?downloadAttributes=%7B%22selectedCategory%22:3,%22selectedSubCategory%22:8,%22selectedRegion%22:%22DE%22,%22from%22:1658613600000,%22to%22:1659563999999,%22selectedFileType%22:%22CSV%22%7D"
   ]
  },
  {
   "cell_type": "code",
   "execution_count": null,
   "metadata": {},
   "outputs": [],
   "source": [
    "import pandas as pd\n",
    "import pickle\n",
    "from pathlib import Path\n",
    "import numpy as np\n",
    "import sklearn.preprocessing \n",
    "import matplotlib.pyplot as plt"
   ]
  },
  {
   "cell_type": "code",
   "execution_count": null,
   "metadata": {},
   "outputs": [],
   "source": [
    "df_smard = pd.read_csv('../data/energy_data/elect_price_2022.csv', delimiter=';', decimal=',', parse_dates=[['Datum', 'Uhrzeit']])\n",
    "df_smard.tail()"
   ]
  },
  {
   "cell_type": "code",
   "execution_count": null,
   "metadata": {},
   "outputs": [],
   "source": [
    "ser_energy_price_germany = df_smard[['Datum_Uhrzeit', 'Deutschland/Luxemburg[€/MWh]']]\n",
    "print(f\"Type: {type(ser_energy_price_germany)}\")\n",
    "ser_energy_price_germany.head()"
   ]
  },
  {
   "cell_type": "code",
   "execution_count": null,
   "metadata": {},
   "outputs": [],
   "source": [
    "type(ser_energy_price_germany['Datum_Uhrzeit'])"
   ]
  },
  {
   "cell_type": "code",
   "execution_count": null,
   "metadata": {},
   "outputs": [],
   "source": [
    "mask = ser_energy_price_germany['Datum_Uhrzeit'].duplicated()\n",
    "\n",
    "print(ser_energy_price_germany[mask])"
   ]
  },
  {
   "cell_type": "code",
   "execution_count": null,
   "metadata": {},
   "outputs": [],
   "source": [
    "ser_energy_price_germany = ser_energy_price_germany.drop_duplicates(subset=['Datum_Uhrzeit'])"
   ]
  },
  {
   "cell_type": "code",
   "execution_count": null,
   "metadata": {},
   "outputs": [],
   "source": [
    "idx = ser_energy_price_germany['Datum_Uhrzeit']\n",
    "val = ser_energy_price_germany['Deutschland/Luxemburg[€/MWh]']\n",
    "ser = val.set_axis(idx, axis=0)"
   ]
  },
  {
   "cell_type": "code",
   "execution_count": null,
   "metadata": {},
   "outputs": [],
   "source": [
    "ser.head()"
   ]
  },
  {
   "cell_type": "code",
   "execution_count": null,
   "metadata": {},
   "outputs": [],
   "source": [
    "ser.tail()"
   ]
  },
  {
   "cell_type": "code",
   "execution_count": null,
   "metadata": {},
   "outputs": [],
   "source": [
    "ser_sept = ser.loc[\"2022-09-01 00:00:00\":\"2022-09-30 23:00:00\"]\n",
    "ser_oct = ser.loc[\"2022-10-01 00:00:00\":\"2022-10-31 23:00:00\"]"
   ]
  },
  {
   "cell_type": "code",
   "execution_count": null,
   "metadata": {},
   "outputs": [],
   "source": [
    "ser_sept.tail()"
   ]
  },
  {
   "cell_type": "code",
   "execution_count": null,
   "metadata": {},
   "outputs": [],
   "source": [
    "ser_oct.tail()"
   ]
  },
  {
   "cell_type": "code",
   "execution_count": null,
   "metadata": {},
   "outputs": [],
   "source": [
    "# Preprocessing: Using MinMaxScaler\n",
    "# Since the data is static it might be better to do it once than before every training\n",
    "\n"
   ]
  },
  {
   "cell_type": "code",
   "execution_count": null,
   "metadata": {},
   "outputs": [],
   "source": []
  },
  {
   "cell_type": "code",
   "execution_count": null,
   "metadata": {},
   "outputs": [],
   "source": [
    "#upsamled_ser = ser.resample('60s').pad()\n",
    "#TODO: to datetime?? search for resample\n",
    "upsamled_ser_sept = ser_sept.resample('60s').pad()\n",
    "upsamled_ser_oct = ser_oct.resample('60s').pad()"
   ]
  },
  {
   "cell_type": "code",
   "execution_count": null,
   "metadata": {},
   "outputs": [],
   "source": [
    "upsamled_ser_sept.tail()"
   ]
  },
  {
   "cell_type": "code",
   "execution_count": null,
   "metadata": {},
   "outputs": [],
   "source": [
    "upsamled_ser_oct.tail()"
   ]
  },
  {
   "cell_type": "code",
   "execution_count": null,
   "metadata": {},
   "outputs": [],
   "source": [
    "# Euro/ MWh to Euro/ kWmin\n",
    "rescaled_ser_sept = upsamled_ser_sept.mul(1/(1000*60))\n",
    "rescaled_ser_oct = upsamled_ser_oct.mul(1/(1000*60))"
   ]
  },
  {
   "cell_type": "code",
   "execution_count": null,
   "metadata": {},
   "outputs": [],
   "source": [
    "rescaled_ser_sept.tail()"
   ]
  },
  {
   "cell_type": "code",
   "execution_count": null,
   "metadata": {},
   "outputs": [],
   "source": [
    "rescaled_ser_oct.tail()"
   ]
  },
  {
   "cell_type": "code",
   "execution_count": null,
   "metadata": {},
   "outputs": [],
   "source": [
    "energy_price_lst_sept = rescaled_ser_sept.to_list()\n",
    "\n",
    "with open('../data/energy_data/elect_price_sept_kwmin.pkl', 'wb') as outfile:\n",
    "    pickle.dump(energy_price_lst_sept, outfile)"
   ]
  },
  {
   "cell_type": "code",
   "execution_count": null,
   "metadata": {},
   "outputs": [],
   "source": [
    "np_arr = rescaled_ser_oct.to_numpy()"
   ]
  },
  {
   "cell_type": "code",
   "execution_count": null,
   "metadata": {},
   "outputs": [],
   "source": [
    "print(np_arr)"
   ]
  },
  {
   "cell_type": "code",
   "execution_count": null,
   "metadata": {},
   "outputs": [],
   "source": [
    "energy_price_lst_oct = rescaled_ser_oct.to_list()\n",
    "\n",
    "#with open('../data/energy_data/elect_price_oct_kwmin.pkl', 'wb') as outfile:\n",
    "    #pickle.dump(energy_price_lst_sept, outfile)"
   ]
  },
  {
   "cell_type": "code",
   "execution_count": null,
   "metadata": {},
   "outputs": [],
   "source": [
    "energy_price_lst_sept_oct = energy_price_lst_sept.append(energy_price_lst_oct)\n",
    "#with open('../data/energy_data/elect_price_sept_oct_kwmin.pkl', 'wb') as outfile:\n",
    "    #pickle.dump(energy_price_lst_sept_oct, outfile)"
   ]
  },
  {
   "cell_type": "code",
   "execution_count": null,
   "metadata": {},
   "outputs": [],
   "source": [
    "### Generate 14 days ahead data\n",
    "### MinMax and true values\n",
    "\n",
    "ser_sept_14_days = ser_sept.loc[\"2022-09-01 00:00:00\":\"2022-09-14 23:00:00\"]\n",
    "\n",
    "ser_sept_14_days.plot()"
   ]
  },
  {
   "cell_type": "code",
   "execution_count": null,
   "metadata": {},
   "outputs": [],
   "source": [
    "\n",
    "print(f\"min: {ser_sept_14_days.min()}\")\n",
    "print(f\"max: {ser_sept_14_days.max()}\")\n"
   ]
  },
  {
   "cell_type": "code",
   "execution_count": null,
   "metadata": {},
   "outputs": [],
   "source": [
    "ser_sept_14_days = ser_sept.loc[\"2022-09-01 00:00:00\":\"2022-09-14 23:00:00\"]\n",
    "upsampled_ser_sept_14_days = ser_sept_14_days.resample('60s').pad()\n",
    "np_arr = upsampled_ser_sept_14_days.to_numpy()\n",
    "\n",
    "\n",
    "# We need both a rescaled dataset wrt. the units and a MinMax Scaled\n",
    "rescaled_ser_sept_14_days = np_arr*(1/(1000*60))\n",
    "\n",
    "# MinMax\n",
    "scaled_data = sklearn.preprocessing.minmax_scale(np_arr)\n",
    "\n",
    "# save data\n",
    "\n",
    "#np.save(\"../data/energy_data/price_sept_14_days.npy\", rescaled_ser_sept_14_days)\n",
    "#np.save(\"../data/energy_data/price_MinMax_sept_14_days.npy\", scaled_data)\n"
   ]
  },
  {
   "cell_type": "code",
   "execution_count": null,
   "metadata": {},
   "outputs": [],
   "source": [
    "print(9.9860e+01)"
   ]
  },
  {
   "cell_type": "code",
   "execution_count": null,
   "metadata": {},
   "outputs": [],
   "source": [
    "plt.plot(rescaled_ser_sept_14_days)\n",
    "plt.show()"
   ]
  },
  {
   "cell_type": "code",
   "execution_count": null,
   "metadata": {},
   "outputs": [],
   "source": [
    "## Plot Time series:\n",
    "df_fifteen_min = pd.read_csv(\"../data/energy_data/Gro_handelspreise_202209010000_202209302359_stunde.csv\")\n",
    "#ser_fifteen_min = df_fifteen_min[df_fifteen_min.columns.to_list()[3]]\n",
    "df_fifteen_min.columns.to_list()\n",
    "df_fifteen_min.iloc[:,2]\n"
   ]
  },
  {
   "cell_type": "code",
   "execution_count": null,
   "metadata": {},
   "outputs": [],
   "source": [
    "ser_fifteen_min = df_fifteen_min['Deutschland/Luxemburg [€/MWh] Interpolierte Auflösungen']"
   ]
  },
  {
   "cell_type": "code",
   "execution_count": null,
   "metadata": {},
   "outputs": [],
   "source": []
  }
 ],
 "metadata": {
  "kernelspec": {
   "display_name": "Python 3.11.0 ('ipykernel_env')",
   "language": "python",
   "name": "python3"
  },
  "language_info": {
   "codemirror_mode": {
    "name": "ipython",
    "version": 3
   },
   "file_extension": ".py",
   "mimetype": "text/x-python",
   "name": "python",
   "nbconvert_exporter": "python",
   "pygments_lexer": "ipython3",
   "version": "3.11.0"
  },
  "orig_nbformat": 4,
  "vscode": {
   "interpreter": {
    "hash": "9f461b665dd78a0ad63959877b57c14aeb79c2781968bb93df8983cbfc0b14e0"
   }
  }
 },
 "nbformat": 4,
 "nbformat_minor": 2
}
